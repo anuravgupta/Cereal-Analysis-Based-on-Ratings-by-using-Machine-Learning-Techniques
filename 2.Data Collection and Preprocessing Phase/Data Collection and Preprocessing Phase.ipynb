{
 "cells": [
  {
   "cell_type": "markdown",
   "metadata": {},
   "source": [
    "Importing the dataset:"
   ]
  },
  {
   "cell_type": "code",
   "execution_count": null,
   "metadata": {},
   "outputs": [],
   "source": [
    "df = pd.read_csv(r'cereal.csv')\n",
    "df.info()\n",
    "print(\"\\nNull values in each column:\\n\", df.isnull().sum())\n"
   ]
  },
  {
   "cell_type": "markdown",
   "metadata": {},
   "source": [
    "Import necessary libraries for machine learning:"
   ]
  },
  {
   "cell_type": "code",
   "execution_count": null,
   "metadata": {},
   "outputs": [],
   "source": [
    "import numpy as np\n",
    "import pandas as pd\n",
    "import matplotlib.pyplot as plt\n",
    "import seaborn as sns\n",
    "from sklearn.model_selection import train_test_split\n",
    "from sklearn.preprocessing import StandardScaler"
   ]
  },
  {
   "cell_type": "markdown",
   "metadata": {},
   "source": [
    "Handling missing values:"
   ]
  },
  {
   "cell_type": "code",
   "execution_count": null,
   "metadata": {},
   "outputs": [],
   "source": [
    "if df.isnull().sum().sum() > 0:\n",
    "    plt.figure(figsize=(10, 8))\n",
    "    sns.heatmap(df.isnull(), cbar=False, cmap='viridis')\n",
    "    plt.title('Missing Values Heatmap (Before)')\n",
    "    plt.show()\n",
    "\n",
    "    imputer = SimpleImputer(strategy='mean')\n",
    "    df = imputer.fit_transform(df)  # Create a transformed DataFrame\n",
    "\n",
    "    print(\"\\nNull values after imputation:\\n\", df.isnull().sum())\n",
    "\n",
    "    plt.figure(figsize=(10, 8))\n",
    "    sns.heatmap(df.isnull(), cbar=False, cmap='viridis')\n",
    "    plt.title('Missing Values Heatmap (After)')\n",
    "    plt.show()\n"
   ]
  },
  {
   "cell_type": "markdown",
   "metadata": {},
   "source": [
    "Handling non-numeric columns and converting categorical data:"
   ]
  },
  {
   "cell_type": "code",
   "execution_count": null,
   "metadata": {},
   "outputs": [],
   "source": [
    "# Select only numeric columns from the dataframe\n",
    "numeric_df = df.select_dtypes(include=[np.number])"
   ]
  },
  {
   "cell_type": "markdown",
   "metadata": {},
   "source": [
    "PLotting the Correlation Heatmap"
   ]
  },
  {
   "cell_type": "code",
   "execution_count": null,
   "metadata": {},
   "outputs": [],
   "source": [
    "plt.figure(figsize=(10, 8))\n",
    "sns.heatmap(numeric_df.corr(), annot=True, cmap='coolwarm', linewidths=0.5)\n",
    "plt.title(\"Correlation Heatmap\")\n",
    "plt.xlabel('Columns')\n",
    "plt.ylabel('Columns')\n",
    "plt.show()"
   ]
  },
  {
   "cell_type": "markdown",
   "metadata": {},
   "source": [
    "Plotting Box Plot for Sugars by Cereal Type"
   ]
  },
  {
   "cell_type": "code",
   "execution_count": null,
   "metadata": {},
   "outputs": [],
   "source": [
    "plt.figure(figsize=(8, 6))\n",
    "sns.boxplot(x='type', y='sugars', data=df)\n",
    "plt.xlabel('Cereal Type')\n",
    "plt.ylabel('Sugars (grams)')\n",
    "plt.title('Distribution of Sugars by Cereal Type (Box Plot)')\n",
    "plt.show()"
   ]
  },
  {
   "cell_type": "markdown",
   "metadata": {},
   "source": [
    "Plotting Pairplot for Numeric Columns"
   ]
  },
  {
   "cell_type": "code",
   "execution_count": null,
   "metadata": {},
   "outputs": [],
   "source": [
    "sns.pairplot(df.select_dtypes(include=[np.number]))\n",
    "plt.show()"
   ]
  },
  {
   "cell_type": "markdown",
   "metadata": {},
   "source": [
    "Data Preprocessing\n"
   ]
  },
  {
   "cell_type": "code",
   "execution_count": null,
   "metadata": {},
   "outputs": [],
   "source": [
    "# Convert 'type' column to binary (1 for 'C' and 0 otherwise)\n",
    "df['type'] = (df['type'] == 'C').astype(int)\n",
    "\n",
    "# Display unique values in 'mfr' column\n",
    "print(\"\\nUnique values in 'mfr':\\n\", df['mfr'].unique())\n",
    "\n",
    "# Replace -1 with NaN\n",
    "df = df.replace(-1, np.NaN)\n",
    "\n",
    "# Fill NaN values in specified columns with the mean of each column\n",
    "for col in ['carbo', 'sugars', 'potass']:\n",
    "    df[col] = df[col].fillna(df[col].mean())\n",
    "\n",
    "# Drop 'name' column as it is not needed for analysis\n",
    "df.drop('name', axis=1, inplace=True)\n",
    "\n",
    "# One-hot encoding for 'mfr' column\n",
    "dummy = pd.get_dummies(df['mfr'], dtype=int)\n",
    "df = pd.concat([df, dummy], axis=1)\n",
    "\n",
    "# Drop original 'mfr' column after encoding\n",
    "df.drop('mfr', axis=1, inplace=True)"
   ]
  },
  {
   "cell_type": "markdown",
   "metadata": {},
   "source": [
    "Separating features and target variable :"
   ]
  },
  {
   "cell_type": "code",
   "execution_count": null,
   "metadata": {},
   "outputs": [],
   "source": [
    "y = df['rating']\n",
    "X = df.drop('rating', axis=1)"
   ]
  },
  {
   "cell_type": "markdown",
   "metadata": {},
   "source": [
    "Standardizing the Feature Variables :"
   ]
  },
  {
   "cell_type": "code",
   "execution_count": null,
   "metadata": {},
   "outputs": [],
   "source": [
    "sc = StandardScaler()\n",
    "X = pd.DataFrame(sc.fit_transform(X), columns=X.columns)"
   ]
  },
  {
   "cell_type": "markdown",
   "metadata": {},
   "source": [
    "Splitting the Data into Training and Testing Sets :"
   ]
  },
  {
   "cell_type": "code",
   "execution_count": null,
   "metadata": {},
   "outputs": [],
   "source": [
    "X_train, X_test, y_train, y_test = train_test_split(X, y, test_size=0.2, random_state=42)"
   ]
  }
 ],
 "metadata": {
  "language_info": {
   "name": "python"
  }
 },
 "nbformat": 4,
 "nbformat_minor": 2
}
