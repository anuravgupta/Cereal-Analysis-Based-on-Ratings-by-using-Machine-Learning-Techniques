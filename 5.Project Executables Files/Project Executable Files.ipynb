{
 "cells": [
  {
   "cell_type": "markdown",
   "metadata": {},
   "source": [
    "Saving the models using pickle:"
   ]
  },
  {
   "cell_type": "code",
   "execution_count": null,
   "metadata": {},
   "outputs": [],
   "source": [
    "with open('linear_regression.pkl', 'wb') as f:\n",
    "    pickle.dump(lr, f)\n",
    "\n",
    "with open('ridge_regression.pkl', 'wb') as f:\n",
    "    pickle.dump(r, f)\n",
    "\n",
    "with open('lasso_regression.pkl', 'wb') as f:\n",
    "    pickle.dump(l, f)\n",
    "\n",
    "with open('decision_tree_regressor.pkl', 'wb') as f:\n",
    "    pickle.dump(dt, f)\n",
    "\n",
    "with open('random_forest_regressor.pkl', 'wb') as f:\n",
    "    pickle.dump(rf, f)\n"
   ]
  }
 ],
 "metadata": {
  "language_info": {
   "name": "python"
  }
 },
 "nbformat": 4,
 "nbformat_minor": 2
}
