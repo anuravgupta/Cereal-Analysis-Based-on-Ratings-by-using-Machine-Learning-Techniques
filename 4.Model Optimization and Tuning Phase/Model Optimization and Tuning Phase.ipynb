{
 "cells": [
  {
   "cell_type": "markdown",
   "metadata": {},
   "source": [
    "Import necessary libraries for evaluation metrics:"
   ]
  },
  {
   "cell_type": "code",
   "execution_count": null,
   "metadata": {},
   "outputs": [],
   "source": [
    "from sklearn.metrics import r2_score, mean_squared_error, mean_absolute_percentage_error"
   ]
  },
  {
   "cell_type": "markdown",
   "metadata": {},
   "source": [
    "Evaluate and Print Scores for Each Model:"
   ]
  },
  {
   "cell_type": "code",
   "execution_count": null,
   "metadata": {},
   "outputs": [],
   "source": [
    "print(f\"Linear Regression score: {lr.score(X_test, y_test):.4f}\")\n",
    "print(f\"Ridge Regression score: {r.score(X_test, y_test):.4f}\")\n",
    "print(f\"Lasso Regression score: {l.score(X_test, y_test):.4f}\")\n",
    "print(f\"Decision Tree Regressor score: {dt.score(X_test, y_test):.4f}\")\n",
    "print(f\"Random Forest Regressor score: {rf.score(X_test, y_test):.4f}\")"
   ]
  },
  {
   "cell_type": "markdown",
   "metadata": {},
   "source": [
    "Predicting Values for Test Set:"
   ]
  },
  {
   "cell_type": "code",
   "execution_count": null,
   "metadata": {},
   "outputs": [],
   "source": [
    "y_pred_lr = lr.predict(X_test)\n",
    "y_pred_r = r.predict(X_test)\n",
    "y_pred_l = l.predict(X_test)\n",
    "y_pred_dt = dt.predict(X_test)\n",
    "y_pred_rf = rf.predict(X_test)"
   ]
  },
  {
   "cell_type": "markdown",
   "metadata": {},
   "source": [
    "Initializing Model Names and Predictions List:"
   ]
  },
  {
   "cell_type": "code",
   "execution_count": null,
   "metadata": {},
   "outputs": [],
   "source": [
    "models = [\"Linear Regression\", \"Ridge Regression\", \"Lasso Regression\",\n",
    "          \"Decision Tree Regressor\", \"Random Forest Regressor\"]\n",
    "y_preds = [y_pred_lr, y_pred_r, y_pred_l, y_pred_dt, y_pred_rf]"
   ]
  },
  {
   "cell_type": "markdown",
   "metadata": {},
   "source": [
    "Calculating and Printing Evaluation Metrics for Each Model:"
   ]
  },
  {
   "cell_type": "code",
   "execution_count": null,
   "metadata": {},
   "outputs": [],
   "source": [
    "\n",
    "for model, y_pred in zip(models, y_preds):\n",
    "    r2 = r2_score(y_test, y_pred)\n",
    "    rmse = mean_squared_error(y_test, y_pred, squared=False)\n",
    "    mape = mean_absolute_percentage_error(y_test, y_pred) * 100\n",
    "\n",
    "    print(f\"\\nModel: {model}\")\n",
    "    print(f\"R-squared: {r2:.4f}\")\n",
    "    print(f\"Root Mean Squared Error (RMSE): {rmse:.4f}\")\n",
    "    print(f\"Mean Absolute Percentage Error (MAPE): {mape:.4f}%\")\n"
   ]
  }
 ],
 "metadata": {
  "language_info": {
   "name": "python"
  }
 },
 "nbformat": 4,
 "nbformat_minor": 2
}
